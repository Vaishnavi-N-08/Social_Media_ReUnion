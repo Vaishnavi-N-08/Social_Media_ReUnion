{
 "cells": [
  {
   "cell_type": "code",
   "execution_count": 8,
   "metadata": {},
   "outputs": [
    {
     "name": "stdout",
     "output_type": "stream",
     "text": [
      "Collecting tabulate\n",
      "  Downloading tabulate-0.9.0-py3-none-any.whl (35 kB)\n",
      "Installing collected packages: tabulate\n",
      "Successfully installed tabulate-0.9.0\n"
     ]
    }
   ],
   "source": [
    "!pip install tabulate"
   ]
  },
  {
   "cell_type": "code",
   "execution_count": 2,
   "metadata": {},
   "outputs": [],
   "source": [
    "import pandas as pd"
   ]
  },
  {
   "cell_type": "code",
   "execution_count": 6,
   "metadata": {},
   "outputs": [
    {
     "data": {
      "text/plain": [
       "Index(['Test Case Name', 'API Endpoint', 'Description', 'Positive or Negative',\n",
       "       'Steps to test', 'Link', 'Sample JSON', 'Sample Response'],\n",
       "      dtype='object')"
      ]
     },
     "execution_count": 6,
     "metadata": {},
     "output_type": "execute_result"
    }
   ],
   "source": [
    "# read sampleView.csv\n",
    "\n",
    "df = pd.read_csv('./Sample.csv')\n",
    "\n",
    "# show all the columns\n",
    "\n",
    "df.columns\n"
   ]
  },
  {
   "cell_type": "code",
   "execution_count": 23,
   "metadata": {},
   "outputs": [],
   "source": [
    "# write the output to a readme.md file with Test Case Name, API Endpoint, Description, Positive or Negative, Steps to test, Link, Sample JSON, Sample Response\n",
    "\n",
    "with open('readme.md', 'w') as f:\n",
    "    # for each row in the dataframe\n",
    "    for index, row in df.iterrows():\n",
    "        # write the test case name\n",
    "        f.write('## ' + row['Test Case Name'] + '\\r')\n",
    "\n",
    "        # write the API Endpoint\n",
    "        f.write('`' + row['API Endpoint'] + '`\\t')\n",
    "\n",
    "        # write the link\n",
    "        f.write('[Deployed Link](' + row['Link'] + ')\\r\\n\\n')\n",
    "\n",
    "        # write the description\n",
    "        f.write(row['Description'] + '\\r')\n",
    "\n",
    "        # write the steps to test\n",
    "        f.write(row['Steps to test'] + '\\r\\n')\n",
    "\n",
    "        # write the sample JSON in a code block\n",
    "        f.write('```json\\r')\n",
    "        f.write(row['Sample JSON'] + '\\r')\n",
    "        f.write('```\\r')\n",
    "\n",
    "        # write the sample response in a code block\n",
    "        f.write('```json\\r')\n",
    "        f.write(row['Sample Response'] + '\\r')\n",
    "        f.write('```\\r')\n",
    "\n",
    "        # write a new line\n",
    "        f.write('\\r')"
   ]
  }
 ],
 "metadata": {
  "kernelspec": {
   "display_name": "Python 3",
   "language": "python",
   "name": "python3"
  },
  "language_info": {
   "codemirror_mode": {
    "name": "ipython",
    "version": 3
   },
   "file_extension": ".py",
   "mimetype": "text/x-python",
   "name": "python",
   "nbconvert_exporter": "python",
   "pygments_lexer": "ipython3",
   "version": "3.8.10"
  },
  "orig_nbformat": 4,
  "vscode": {
   "interpreter": {
    "hash": "916dbcbb3f70747c44a77c7bcd40155683ae19c65e1c03b4aa3499c5328201f1"
   }
  }
 },
 "nbformat": 4,
 "nbformat_minor": 2
}
